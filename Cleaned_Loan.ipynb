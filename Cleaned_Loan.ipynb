{
 "cells": [
  {
   "cell_type": "code",
   "execution_count": 1,
   "id": "0c68d762",
   "metadata": {},
   "outputs": [
    {
     "data": {
      "text/plain": [
       "(   id  person_age  person_income person_home_ownership  person_emp_length  \\\n",
       " 0   0          37          35000                  RENT                0.0   \n",
       " 1   1          22          56000                   OWN                6.0   \n",
       " 2   2          29          28800                   OWN                8.0   \n",
       " 3   3          30          70000                  RENT               14.0   \n",
       " 4   4          22          60000                  RENT                2.0   \n",
       " \n",
       "   loan_intent loan_grade  loan_amnt  loan_int_rate  loan_percent_income  \\\n",
       " 0   EDUCATION          B       6000          11.49                 0.17   \n",
       " 1     MEDICAL          C       4000          13.35                 0.07   \n",
       " 2    PERSONAL          A       6000           8.90                 0.21   \n",
       " 3     VENTURE          B      12000          11.11                 0.17   \n",
       " 4     MEDICAL          A       6000           6.92                 0.10   \n",
       " \n",
       "   cb_person_default_on_file  cb_person_cred_hist_length  loan_status  \n",
       " 0                         N                          14            0  \n",
       " 1                         N                           2            0  \n",
       " 2                         N                          10            0  \n",
       " 3                         N                           5            0  \n",
       " 4                         N                           3            0  ,\n",
       "       id  person_age  person_income person_home_ownership  person_emp_length  \\\n",
       " 0  58645          23          69000                  RENT                3.0   \n",
       " 1  58646          26          96000              MORTGAGE                6.0   \n",
       " 2  58647          26          30000                  RENT                5.0   \n",
       " 3  58648          33          50000                  RENT                4.0   \n",
       " 4  58649          26         102000              MORTGAGE                8.0   \n",
       " \n",
       "          loan_intent loan_grade  loan_amnt  loan_int_rate  \\\n",
       " 0    HOMEIMPROVEMENT          F      25000          15.76   \n",
       " 1           PERSONAL          C      10000          12.68   \n",
       " 2            VENTURE          E       4000          17.19   \n",
       " 3  DEBTCONSOLIDATION          A       7000           8.90   \n",
       " 4    HOMEIMPROVEMENT          D      15000          16.32   \n",
       " \n",
       "    loan_percent_income cb_person_default_on_file  cb_person_cred_hist_length  \n",
       " 0                 0.36                         N                           2  \n",
       " 1                 0.10                         Y                           4  \n",
       " 2                 0.13                         Y                           2  \n",
       " 3                 0.14                         N                           7  \n",
       " 4                 0.15                         Y                           4  )"
      ]
     },
     "execution_count": 1,
     "metadata": {},
     "output_type": "execute_result"
    }
   ],
   "source": [
    "# Import necessary libraries\n",
    "import pandas as pd\n",
    "\n",
    "# Load the datasets\n",
    "train_data = pd.read_csv('/Users/vijeethvj8/Documents/Kaggle projects/Loan Approval Prediction/train.csv')\n",
    "test_data = pd.read_csv('/Users/vijeethvj8/Documents/Kaggle projects/Loan Approval Prediction/test.csv')\n",
    "\n",
    "# Display the first few rows of the train and test data\n",
    "train_data.head(), test_data.head()\n"
   ]
  },
  {
   "cell_type": "code",
   "execution_count": 2,
   "id": "e973c4de",
   "metadata": {},
   "outputs": [
    {
     "name": "stdout",
     "output_type": "stream",
     "text": [
      "Train Data Info:\n",
      "<class 'pandas.core.frame.DataFrame'>\n",
      "RangeIndex: 58645 entries, 0 to 58644\n",
      "Data columns (total 13 columns):\n",
      " #   Column                      Non-Null Count  Dtype  \n",
      "---  ------                      --------------  -----  \n",
      " 0   id                          58645 non-null  int64  \n",
      " 1   person_age                  58645 non-null  int64  \n",
      " 2   person_income               58645 non-null  int64  \n",
      " 3   person_home_ownership       58645 non-null  object \n",
      " 4   person_emp_length           58645 non-null  float64\n",
      " 5   loan_intent                 58645 non-null  object \n",
      " 6   loan_grade                  58645 non-null  object \n",
      " 7   loan_amnt                   58645 non-null  int64  \n",
      " 8   loan_int_rate               58645 non-null  float64\n",
      " 9   loan_percent_income         58645 non-null  float64\n",
      " 10  cb_person_default_on_file   58645 non-null  object \n",
      " 11  cb_person_cred_hist_length  58645 non-null  int64  \n",
      " 12  loan_status                 58645 non-null  int64  \n",
      "dtypes: float64(3), int64(6), object(4)\n",
      "memory usage: 5.8+ MB\n",
      "None\n",
      "\n",
      "Test Data Info:\n",
      "<class 'pandas.core.frame.DataFrame'>\n",
      "RangeIndex: 39098 entries, 0 to 39097\n",
      "Data columns (total 12 columns):\n",
      " #   Column                      Non-Null Count  Dtype  \n",
      "---  ------                      --------------  -----  \n",
      " 0   id                          39098 non-null  int64  \n",
      " 1   person_age                  39098 non-null  int64  \n",
      " 2   person_income               39098 non-null  int64  \n",
      " 3   person_home_ownership       39098 non-null  object \n",
      " 4   person_emp_length           39098 non-null  float64\n",
      " 5   loan_intent                 39098 non-null  object \n",
      " 6   loan_grade                  39098 non-null  object \n",
      " 7   loan_amnt                   39098 non-null  int64  \n",
      " 8   loan_int_rate               39098 non-null  float64\n",
      " 9   loan_percent_income         39098 non-null  float64\n",
      " 10  cb_person_default_on_file   39098 non-null  object \n",
      " 11  cb_person_cred_hist_length  39098 non-null  int64  \n",
      "dtypes: float64(3), int64(5), object(4)\n",
      "memory usage: 3.6+ MB\n",
      "None\n"
     ]
    }
   ],
   "source": [
    "# Get a summary of the dataset\n",
    "print(\"Train Data Info:\")\n",
    "print(train_data.info())\n",
    "\n",
    "print(\"\\nTest Data Info:\")\n",
    "print(test_data.info())\n"
   ]
  },
  {
   "cell_type": "code",
   "execution_count": 3,
   "id": "7d2a1b70",
   "metadata": {},
   "outputs": [
    {
     "data": {
      "text/plain": [
       "(   id  person_age  person_income  person_emp_length  loan_amnt  loan_int_rate  \\\n",
       " 0   0          37          35000                0.0       6000          11.49   \n",
       " 1   1          22          56000                6.0       4000          13.35   \n",
       " 2   2          29          28800                8.0       6000           8.90   \n",
       " 3   3          30          70000               14.0      12000          11.11   \n",
       " 4   4          22          60000                2.0       6000           6.92   \n",
       " \n",
       "    loan_percent_income  cb_person_cred_hist_length  loan_status  \\\n",
       " 0                 0.17                          14            0   \n",
       " 1                 0.07                           2            0   \n",
       " 2                 0.21                          10            0   \n",
       " 3                 0.17                           5            0   \n",
       " 4                 0.10                           3            0   \n",
       " \n",
       "    person_home_ownership_MORTGAGE  ...  loan_intent_VENTURE  loan_grade_A  \\\n",
       " 0                           False  ...                False         False   \n",
       " 1                           False  ...                False         False   \n",
       " 2                           False  ...                False          True   \n",
       " 3                           False  ...                 True         False   \n",
       " 4                           False  ...                False          True   \n",
       " \n",
       "    loan_grade_B  loan_grade_C  loan_grade_D  loan_grade_E  loan_grade_F  \\\n",
       " 0          True         False         False         False         False   \n",
       " 1         False          True         False         False         False   \n",
       " 2         False         False         False         False         False   \n",
       " 3          True         False         False         False         False   \n",
       " 4         False         False         False         False         False   \n",
       " \n",
       "    loan_grade_G  cb_person_default_on_file_N  cb_person_default_on_file_Y  \n",
       " 0         False                         True                        False  \n",
       " 1         False                         True                        False  \n",
       " 2         False                         True                        False  \n",
       " 3         False                         True                        False  \n",
       " 4         False                         True                        False  \n",
       " \n",
       " [5 rows x 28 columns],\n",
       "       id  person_age  person_income  person_emp_length  loan_amnt  \\\n",
       " 0  58645          23          69000                3.0      25000   \n",
       " 1  58646          26          96000                6.0      10000   \n",
       " 2  58647          26          30000                5.0       4000   \n",
       " 3  58648          33          50000                4.0       7000   \n",
       " 4  58649          26         102000                8.0      15000   \n",
       " \n",
       "    loan_int_rate  loan_percent_income  cb_person_cred_hist_length  \\\n",
       " 0          15.76                 0.36                           2   \n",
       " 1          12.68                 0.10                           4   \n",
       " 2          17.19                 0.13                           2   \n",
       " 3           8.90                 0.14                           7   \n",
       " 4          16.32                 0.15                           4   \n",
       " \n",
       "    person_home_ownership_MORTGAGE  person_home_ownership_OTHER  ...  \\\n",
       " 0                           False                        False  ...   \n",
       " 1                            True                        False  ...   \n",
       " 2                           False                        False  ...   \n",
       " 3                           False                        False  ...   \n",
       " 4                            True                        False  ...   \n",
       " \n",
       "    loan_intent_VENTURE  loan_grade_A  loan_grade_B  loan_grade_C  \\\n",
       " 0                False         False         False         False   \n",
       " 1                False         False         False          True   \n",
       " 2                 True         False         False         False   \n",
       " 3                False          True         False         False   \n",
       " 4                False         False         False         False   \n",
       " \n",
       "    loan_grade_D  loan_grade_E  loan_grade_F  loan_grade_G  \\\n",
       " 0         False         False          True         False   \n",
       " 1         False         False         False         False   \n",
       " 2         False          True         False         False   \n",
       " 3         False         False         False         False   \n",
       " 4          True         False         False         False   \n",
       " \n",
       "    cb_person_default_on_file_N  cb_person_default_on_file_Y  \n",
       " 0                         True                        False  \n",
       " 1                        False                         True  \n",
       " 2                        False                         True  \n",
       " 3                         True                        False  \n",
       " 4                        False                         True  \n",
       " \n",
       " [5 rows x 27 columns])"
      ]
     },
     "execution_count": 3,
     "metadata": {},
     "output_type": "execute_result"
    }
   ],
   "source": [
    "# One-Hot Encoding for categorical features\n",
    "train_data_encoded = pd.get_dummies(train_data, columns=[\n",
    "    'person_home_ownership', 'loan_intent', 'loan_grade', 'cb_person_default_on_file'\n",
    "])\n",
    "\n",
    "test_data_encoded = pd.get_dummies(test_data, columns=[\n",
    "    'person_home_ownership', 'loan_intent', 'loan_grade', 'cb_person_default_on_file'\n",
    "])\n",
    "\n",
    "# Verify the new columns created\n",
    "train_data_encoded.head(), test_data_encoded.head()\n"
   ]
  },
  {
   "cell_type": "code",
   "execution_count": 4,
   "id": "ffa27cb1",
   "metadata": {},
   "outputs": [],
   "source": [
    "# Features (X) and Target (y) for the training set\n",
    "X_train = train_data_encoded.drop(['loan_status', 'id'], axis=1)  # Drop loan_status (target) and id (identifier)\n",
    "y_train = train_data_encoded['loan_status']  # Target variable\n",
    "\n",
    "# Features for the test set (we won't have loan_status in the test set)\n",
    "X_test = test_data_encoded.drop(['id'], axis=1)\n"
   ]
  },
  {
   "cell_type": "code",
   "execution_count": 5,
   "id": "0934cf35",
   "metadata": {},
   "outputs": [],
   "source": [
    "from sklearn.model_selection import train_test_split\n",
    "\n",
    "# Split the training data into train and validation sets (80% train, 20% validation)\n",
    "X_train_split, X_val_split, y_train_split, y_val_split = train_test_split(X_train, y_train, test_size=0.2, random_state=42)\n"
   ]
  },
  {
   "cell_type": "code",
   "execution_count": 6,
   "id": "752c8974",
   "metadata": {},
   "outputs": [
    {
     "name": "stdout",
     "output_type": "stream",
     "text": [
      "Validation Accuracy: 0.8991\n"
     ]
    },
    {
     "name": "stderr",
     "output_type": "stream",
     "text": [
      "/Users/vijeethvj8/anaconda3/lib/python3.11/site-packages/sklearn/linear_model/_logistic.py:469: ConvergenceWarning: lbfgs failed to converge (status=1):\n",
      "STOP: TOTAL NO. of ITERATIONS REACHED LIMIT.\n",
      "\n",
      "Increase the number of iterations (max_iter) or scale the data as shown in:\n",
      "    https://scikit-learn.org/stable/modules/preprocessing.html\n",
      "Please also refer to the documentation for alternative solver options:\n",
      "    https://scikit-learn.org/stable/modules/linear_model.html#logistic-regression\n",
      "  n_iter_i = _check_optimize_result(\n"
     ]
    }
   ],
   "source": [
    "from sklearn.linear_model import LogisticRegression\n",
    "from sklearn.metrics import accuracy_score\n",
    "\n",
    "# Initialize the Logistic Regression model\n",
    "model = LogisticRegression(max_iter=1000)\n",
    "\n",
    "# Train the model on the training split\n",
    "model.fit(X_train_split, y_train_split)\n",
    "\n",
    "# Make predictions on the validation set\n",
    "y_pred = model.predict(X_val_split)\n",
    "\n",
    "# Evaluate the model accuracy\n",
    "accuracy = accuracy_score(y_val_split, y_pred)\n",
    "print(f\"Validation Accuracy: {accuracy:.4f}\")\n"
   ]
  },
  {
   "cell_type": "code",
   "execution_count": 7,
   "id": "ce4540ef",
   "metadata": {},
   "outputs": [
    {
     "name": "stdout",
     "output_type": "stream",
     "text": [
      "Random Forest Validation Accuracy: 0.9525\n"
     ]
    }
   ],
   "source": [
    "from sklearn.ensemble import RandomForestClassifier\n",
    "\n",
    "# Initialize the Random Forest Classifier\n",
    "rf_model = RandomForestClassifier(n_estimators=100, random_state=42)\n",
    "\n",
    "# Train the model\n",
    "rf_model.fit(X_train_split, y_train_split)\n",
    "\n",
    "# Predict on validation data\n",
    "y_rf_pred = rf_model.predict(X_val_split)\n",
    "\n",
    "# Calculate accuracy\n",
    "rf_accuracy = accuracy_score(y_val_split, y_rf_pred)\n",
    "print(f\"Random Forest Validation Accuracy: {rf_accuracy:.4f}\")\n"
   ]
  },
  {
   "cell_type": "code",
   "execution_count": 8,
   "id": "297ee976",
   "metadata": {},
   "outputs": [
    {
     "name": "stdout",
     "output_type": "stream",
     "text": [
      "Classification Report:\n",
      "               precision    recall  f1-score   support\n",
      "\n",
      "           0       0.96      0.99      0.97     10087\n",
      "           1       0.92      0.72      0.81      1642\n",
      "\n",
      "    accuracy                           0.95     11729\n",
      "   macro avg       0.94      0.86      0.89     11729\n",
      "weighted avg       0.95      0.95      0.95     11729\n",
      "\n"
     ]
    }
   ],
   "source": [
    "from sklearn.metrics import classification_report\n",
    "\n",
    "# Print classification report\n",
    "print(\"Classification Report:\\n\", classification_report(y_val_split, y_rf_pred))\n"
   ]
  },
  {
   "cell_type": "code",
   "execution_count": 9,
   "id": "5468a571",
   "metadata": {},
   "outputs": [
    {
     "data": {
      "image/png": "[encoded data removed]",
      "text/plain": [
       "<Figure size 600x400 with 2 Axes>"
      ]
     },
     "metadata": {},
     "output_type": "display_data"
    }
   ],
   "source": [
    "from sklearn.metrics import confusion_matrix\n",
    "import seaborn as sns\n",
    "import matplotlib.pyplot as plt\n",
    "\n",
    "# Confusion matrix\n",
    "conf_matrix = confusion_matrix(y_val_split, y_rf_pred)\n",
    "\n",
    "# Plotting confusion matrix\n",
    "plt.figure(figsize=(6,4))\n",
    "sns.heatmap(conf_matrix, annot=True, fmt='d', cmap='Blues')\n",
    "plt.title('Confusion Matrix')\n",
    "plt.ylabel('Actual Class')\n",
    "plt.xlabel('Predicted Class')\n",
    "plt.show()\n"
   ]
  },
  {
   "cell_type": "code",
   "execution_count": 10,
   "id": "0b5d27a1",
   "metadata": {},
   "outputs": [
    {
     "name": "stdout",
     "output_type": "stream",
     "text": [
      "Random Forest ROC-AUC Score: 0.9359\n"
     ]
    }
   ],
   "source": [
    "from sklearn.metrics import roc_auc_score\n",
    "\n",
    "# Calculate ROC-AUC score\n",
    "roc_auc = roc_auc_score(y_val_split, rf_model.predict_proba(X_val_split)[:,1])\n",
    "print(f\"Random Forest ROC-AUC Score: {roc_auc:.4f}\")\n"
   ]
  },
  {
   "cell_type": "code",
   "execution_count": 11,
   "id": "b68af03b",
   "metadata": {},
   "outputs": [
    {
     "name": "stdout",
     "output_type": "stream",
     "text": [
      "Fitting 5 folds for each of 16 candidates, totalling 80 fits\n",
      "\n",
      "Best Parameters:  {'max_depth': 20, 'min_samples_leaf': 2, 'min_samples_split': 2, 'n_estimators': 200}\n",
      "Best Validation Accuracy:  0.9507843991314398\n"
     ]
    }
   ],
   "source": [
    "from sklearn.model_selection import GridSearchCV\n",
    "from sklearn.ensemble import RandomForestClassifier\n",
    "\n",
    "# Define the Random Forest model\n",
    "rf_model = RandomForestClassifier(random_state=42)\n",
    "\n",
    "# Define the hyperparameter grid to search\n",
    "param_grid = {\n",
    "    'n_estimators': [100, 200],  # Number of trees in the forest\n",
    "    'max_depth': [10, 20],       # Maximum depth of the tree\n",
    "    'min_samples_split': [2, 5], # Minimum number of samples required to split a node\n",
    "    'min_samples_leaf': [1, 2]   # Minimum number of samples required to be at a leaf node\n",
    "}\n",
    "\n",
    "# Initialize GridSearchCV with the Random Forest model and hyperparameter grid\n",
    "grid_search = GridSearchCV(\n",
    "    estimator=rf_model,          # Model to be used\n",
    "    param_grid=param_grid,       # Hyperparameter grid to search\n",
    "    cv=5,                        # Cross-validation folds\n",
    "    n_jobs=-1,                   # Use all available cores\n",
    "    verbose=3                    # Print detailed output for each fit iteration\n",
    ")\n",
    "\n",
    "# Perform the grid search\n",
    "grid_search.fit(X_train_split, y_train_split)\n",
    "\n",
    "# Get the best parameters and the best validation accuracy\n",
    "print(\"\\nBest Parameters: \", grid_search.best_params_)\n",
    "print(\"Best Validation Accuracy: \", grid_search.best_score_)\n"
   ]
  },
  {
   "cell_type": "code",
   "execution_count": 12,
   "id": "0383a572",
   "metadata": {},
   "outputs": [
    {
     "name": "stdout",
     "output_type": "stream",
     "text": [
      "Validation Accuracy with Best Parameters: 0.9529\n"
     ]
    }
   ],
   "source": [
    "# Retrieve the best model from GridSearchCV\n",
    "best_rf_model = grid_search.best_estimator_\n",
    "\n",
    "# Make predictions on the validation set\n",
    "y_val_best_pred = best_rf_model.predict(X_val_split)\n",
    "\n",
    "# Calculate validation accuracy\n",
    "accuracy_best = accuracy_score(y_val_split, y_val_best_pred)\n",
    "print(f\"Validation Accuracy with Best Parameters: {accuracy_best:.4f}\")\n"
   ]
  },
  {
   "cell_type": "code",
   "execution_count": 13,
   "id": "c72d62c5",
   "metadata": {},
   "outputs": [
    {
     "name": "stdout",
     "output_type": "stream",
     "text": [
      "Classification Report:\n",
      "               precision    recall  f1-score   support\n",
      "\n",
      "           0       0.96      0.99      0.97     10087\n",
      "           1       0.93      0.72      0.81      1642\n",
      "\n",
      "    accuracy                           0.95     11729\n",
      "   macro avg       0.94      0.86      0.89     11729\n",
      "weighted avg       0.95      0.95      0.95     11729\n",
      "\n"
     ]
    },
    {
     "data": {
      "image/png": "[encoded data removed]",
      "text/plain": [
       "<Figure size 600x400 with 2 Axes>"
      ]
     },
     "metadata": {},
     "output_type": "display_data"
    }
   ],
   "source": [
    "from sklearn.metrics import classification_report, confusion_matrix\n",
    "import seaborn as sns\n",
    "import matplotlib.pyplot as plt\n",
    "\n",
    "# Classification report\n",
    "print(\"Classification Report:\\n\", classification_report(y_val_split, y_val_best_pred))\n",
    "\n",
    "# Confusion matrix\n",
    "conf_matrix = confusion_matrix(y_val_split, y_val_best_pred)\n",
    "plt.figure(figsize=(6,4))\n",
    "sns.heatmap(conf_matrix, annot=True, fmt='d', cmap='Blues')\n",
    "plt.title('Confusion Matrix - Best Model')\n",
    "plt.ylabel('Actual Class')\n",
    "plt.xlabel('Predicted Class')\n",
    "plt.show()\n"
   ]
  },
  {
   "cell_type": "code",
   "execution_count": 14,
   "id": "b8b35f60",
   "metadata": {},
   "outputs": [
    {
     "name": "stdout",
     "output_type": "stream",
     "text": [
      "ROC-AUC Score with Best Parameters: 0.9426\n"
     ]
    }
   ],
   "source": [
    "from sklearn.metrics import roc_auc_score\n",
    "\n",
    "# Calculate ROC-AUC score\n",
    "roc_auc_best = roc_auc_score(y_val_split, best_rf_model.predict_proba(X_val_split)[:,1])\n",
    "print(f\"ROC-AUC Score with Best Parameters: {roc_auc_best:.4f}\")\n"
   ]
  },
  {
   "cell_type": "code",
   "execution_count": 15,
   "id": "b9081aeb",
   "metadata": {},
   "outputs": [
    {
     "name": "stdout",
     "output_type": "stream",
     "text": [
      "XGBoost ROC-AUC Score: 0.9484\n"
     ]
    }
   ],
   "source": [
    "from xgboost import XGBClassifier\n",
    "\n",
    "# Initialize the XGBoost classifier\n",
    "xgb_model = XGBClassifier(n_estimators=200, max_depth=20, learning_rate=0.1, random_state=42)\n",
    "\n",
    "# Train the XGBoost model\n",
    "xgb_model.fit(X_train_split, y_train_split)\n",
    "\n",
    "# Make predictions and evaluate\n",
    "y_xgb_pred = xgb_model.predict(X_val_split)\n",
    "roc_auc_xgb = roc_auc_score(y_val_split, xgb_model.predict_proba(X_val_split)[:, 1])\n",
    "print(f\"XGBoost ROC-AUC Score: {roc_auc_xgb:.4f}\")\n"
   ]
  },
  {
   "cell_type": "code",
   "execution_count": 16,
   "id": "13f703f2",
   "metadata": {},
   "outputs": [],
   "source": [
    "from sklearn.model_selection import RandomizedSearchCV\n",
    "from xgboost import XGBClassifier\n",
    "\n",
    "# Define the parameter grid for XGBoost\n",
    "param_grid_xgb = {\n",
    "    'n_estimators': [100, 200, 300],\n",
    "    'max_depth': [10, 20, 30],\n",
    "    'learning_rate': [0.01, 0.1, 0.2],\n",
    "    'colsample_bytree': [0.6, 0.8, 1.0],\n",
    "    'gamma': [0, 1, 5],\n",
    "    'subsample': [0.8, 0.9, 1.0]\n",
    "}\n"
   ]
  },
  {
   "cell_type": "code",
   "execution_count": 17,
   "id": "8eae99cc",
   "metadata": {},
   "outputs": [
    {
     "name": "stdout",
     "output_type": "stream",
     "text": [
      "Fitting 5 folds for each of 20 candidates, totalling 100 fits\n",
      "Best Parameters:  {'subsample': 1.0, 'n_estimators': 300, 'max_depth': 30, 'learning_rate': 0.2, 'gamma': 5, 'colsample_bytree': 0.8}\n",
      "Best ROC-AUC Score:  0.9521059176419525\n"
     ]
    }
   ],
   "source": [
    "# Perform randomized search for hyperparameters\n",
    "random_search_xgb = RandomizedSearchCV(\n",
    "    estimator=XGBClassifier(random_state=42), \n",
    "    param_distributions=param_grid_xgb, \n",
    "    n_iter=20, \n",
    "    cv=5, \n",
    "    verbose=3, \n",
    "    n_jobs=-1\n",
    ")\n",
    "\n",
    "# Fit the randomized search\n",
    "random_search_xgb.fit(X_train_split, y_train_split)\n",
    "\n",
    "# Print the best parameters and score\n",
    "print(\"Best Parameters: \", random_search_xgb.best_params_)\n",
    "print(\"Best ROC-AUC Score: \", random_search_xgb.best_score_)\n"
   ]
  },
  {
   "cell_type": "code",
   "execution_count": 18,
   "id": "e4a12406",
   "metadata": {},
   "outputs": [
    {
     "name": "stdout",
     "output_type": "stream",
     "text": [
      "ROC-AUC Score with Best Parameters: 0.9560\n"
     ]
    }
   ],
   "source": [
    "# Retrieve the best model from RandomizedSearchCV\n",
    "best_xgb_model = random_search_xgb.best_estimator_\n",
    "\n",
    "# Make predictions on the validation set\n",
    "y_val_best_pred = best_xgb_model.predict(X_val_split)\n",
    "\n",
    "# Calculate the ROC-AUC score on validation data\n",
    "roc_auc_best = roc_auc_score(y_val_split, best_xgb_model.predict_proba(X_val_split)[:, 1])\n",
    "print(f\"ROC-AUC Score with Best Parameters: {roc_auc_best:.4f}\")\n"
   ]
  },
  {
   "cell_type": "code",
   "execution_count": 19,
   "id": "21fb20e4",
   "metadata": {},
   "outputs": [
    {
     "name": "stdout",
     "output_type": "stream",
     "text": [
      "Classification Report:\n",
      "               precision    recall  f1-score   support\n",
      "\n",
      "           0       0.96      0.99      0.97     10087\n",
      "           1       0.92      0.73      0.81      1642\n",
      "\n",
      "    accuracy                           0.95     11729\n",
      "   macro avg       0.94      0.86      0.89     11729\n",
      "weighted avg       0.95      0.95      0.95     11729\n",
      "\n"
     ]
    },
    {
     "data": {
      "image/png": "[encoded data removed]",
      "text/plain": [
       "<Figure size 600x400 with 2 Axes>"
      ]
     },
     "metadata": {},
     "output_type": "display_data"
    }
   ],
   "source": [
    "from sklearn.metrics import classification_report, confusion_matrix\n",
    "import seaborn as sns\n",
    "import matplotlib.pyplot as plt\n",
    "\n",
    "# Print classification report\n",
    "print(\"Classification Report:\\n\", classification_report(y_val_split, y_val_best_pred))\n",
    "\n",
    "# Confusion matrix\n",
    "conf_matrix = confusion_matrix(y_val_split, y_val_best_pred)\n",
    "plt.figure(figsize=(6,4))\n",
    "sns.heatmap(conf_matrix, annot=True, fmt='d', cmap='Blues')\n",
    "plt.title('Confusion Matrix - Best XGBoost Model')\n",
    "plt.ylabel('Actual Class')\n",
    "plt.xlabel('Predicted Class')\n",
    "plt.show()\n"
   ]
  },
  {
   "cell_type": "code",
   "execution_count": 20,
   "id": "cbe0611d",
   "metadata": {},
   "outputs": [
    {
     "name": "stdout",
     "output_type": "stream",
     "text": [
      "Voting Classifier ROC-AUC Score: 0.9536\n"
     ]
    }
   ],
   "source": [
    "from sklearn.ensemble import VotingClassifier\n",
    "from sklearn.ensemble import RandomForestClassifier\n",
    "\n",
    "# Initialize Random Forest model\n",
    "rf_model = RandomForestClassifier(n_estimators=200, max_depth=20, random_state=42)\n",
    "\n",
    "# Initialize the Voting Classifier\n",
    "voting_clf = VotingClassifier(estimators=[\n",
    "    ('rf', rf_model), \n",
    "    ('xgb', best_xgb_model)\n",
    "], voting='soft')\n",
    "\n",
    "# Fit the voting classifier on the training set\n",
    "voting_clf.fit(X_train_split, y_train_split)\n",
    "\n",
    "# Make predictions and evaluate the ensemble model on the validation set\n",
    "y_voting_pred = voting_clf.predict(X_val_split)\n",
    "roc_auc_voting = roc_auc_score(y_val_split, voting_clf.predict_proba(X_val_split)[:, 1])\n",
    "print(f\"Voting Classifier ROC-AUC Score: {roc_auc_voting:.4f}\")\n"
   ]
  },
  {
   "cell_type": "code",
   "execution_count": 21,
   "id": "dd6c17aa",
   "metadata": {},
   "outputs": [
    {
     "name": "stdout",
     "output_type": "stream",
     "text": [
      "Classification Report for Voting Classifier:\n",
      "               precision    recall  f1-score   support\n",
      "\n",
      "           0       0.96      0.99      0.97     10087\n",
      "           1       0.93      0.73      0.82      1642\n",
      "\n",
      "    accuracy                           0.95     11729\n",
      "   macro avg       0.94      0.86      0.89     11729\n",
      "weighted avg       0.95      0.95      0.95     11729\n",
      "\n"
     ]
    },
    {
     "data": {
      "image/png": "[encoded data removed]",
      "text/plain": [
       "<Figure size 600x400 with 2 Axes>"
      ]
     },
     "metadata": {},
     "output_type": "display_data"
    }
   ],
   "source": [
    "from sklearn.metrics import classification_report, confusion_matrix\n",
    "import seaborn as sns\n",
    "import matplotlib.pyplot as plt\n",
    "\n",
    "# Print classification report\n",
    "print(\"Classification Report for Voting Classifier:\\n\", classification_report(y_val_split, y_voting_pred))\n",
    "\n",
    "# Confusion matrix\n",
    "conf_matrix_voting = confusion_matrix(y_val_split, y_voting_pred)\n",
    "plt.figure(figsize=(6,4))\n",
    "sns.heatmap(conf_matrix_voting, annot=True, fmt='d', cmap='Blues')\n",
    "plt.title('Confusion Matrix - Voting Classifier')\n",
    "plt.ylabel('Actual Class')\n",
    "plt.xlabel('Predicted Class')\n",
    "plt.show()\n"
   ]
  },
  {
   "cell_type": "code",
   "execution_count": 22,
   "id": "43cdb43b",
   "metadata": {},
   "outputs": [
    {
     "name": "stdout",
     "output_type": "stream",
     "text": [
      "Classification Report with Adjusted Threshold:\n",
      "               precision    recall  f1-score   support\n",
      "\n",
      "           0       0.96      0.99      0.97     10087\n",
      "           1       0.90      0.74      0.82      1642\n",
      "\n",
      "    accuracy                           0.95     11729\n",
      "   macro avg       0.93      0.86      0.89     11729\n",
      "weighted avg       0.95      0.95      0.95     11729\n",
      "\n"
     ]
    }
   ],
   "source": [
    "# Get the predicted probabilities\n",
    "y_voting_proba = voting_clf.predict_proba(X_val_split)[:, 1]\n",
    "\n",
    "# Adjust the decision threshold\n",
    "threshold = 0.4  # Lowering the threshold to increase recall for Class 1\n",
    "y_voting_thresh_pred = (y_voting_proba >= threshold).astype(int)\n",
    "\n",
    "# Evaluate the new predictions with the adjusted threshold\n",
    "print(\"Classification Report with Adjusted Threshold:\\n\", classification_report(y_val_split, y_voting_thresh_pred))\n"
   ]
  },
  {
   "cell_type": "code",
   "execution_count": 23,
   "id": "b699f8e4",
   "metadata": {},
   "outputs": [
    {
     "name": "stdout",
     "output_type": "stream",
     "text": [
      "ROC-AUC Score with Weighted XGBoost: 0.9542\n"
     ]
    }
   ],
   "source": [
    "# Initialize XGBoost with class weighting\n",
    "xgb_model_weighted = XGBClassifier(\n",
    "    n_estimators=200, \n",
    "    max_depth=20, \n",
    "    learning_rate=0.2, \n",
    "    gamma=5, \n",
    "    colsample_bytree=0.6, \n",
    "    subsample=1.0, \n",
    "    scale_pos_weight=(len(y_train_split) / sum(y_train_split == 1)),  # Adjusting class weight for imbalance\n",
    "    random_state=42\n",
    ")\n",
    "\n",
    "# Train the model with weighted classes\n",
    "xgb_model_weighted.fit(X_train_split, y_train_split)\n",
    "\n",
    "# Evaluate performance\n",
    "y_val_weighted_pred = xgb_model_weighted.predict(X_val_split)\n",
    "roc_auc_weighted = roc_auc_score(y_val_split, xgb_model_weighted.predict_proba(X_val_split)[:, 1])\n",
    "print(f\"ROC-AUC Score with Weighted XGBoost: {roc_auc_weighted:.4f}\")\n"
   ]
  },
  {
   "cell_type": "code",
   "execution_count": 24,
   "id": "217351e1",
   "metadata": {},
   "outputs": [
    {
     "name": "stdout",
     "output_type": "stream",
     "text": [
      "Classification Report with Weighted XGBoost:\n",
      "               precision    recall  f1-score   support\n",
      "\n",
      "           0       0.97      0.95      0.96     10087\n",
      "           1       0.73      0.81      0.77      1642\n",
      "\n",
      "    accuracy                           0.93     11729\n",
      "   macro avg       0.85      0.88      0.87     11729\n",
      "weighted avg       0.94      0.93      0.93     11729\n",
      "\n"
     ]
    }
   ],
   "source": [
    "# Evaluate the classification report with the weighted XGBoost model\n",
    "print(\"Classification Report with Weighted XGBoost:\\n\", classification_report(y_val_split, y_val_weighted_pred))\n"
   ]
  },
  {
   "cell_type": "code",
   "execution_count": 25,
   "id": "eff1c835",
   "metadata": {},
   "outputs": [
    {
     "name": "stdout",
     "output_type": "stream",
     "text": [
      "Stacking Classifier ROC-AUC Score: 0.9572\n"
     ]
    }
   ],
   "source": [
    "from sklearn.ensemble import RandomForestClassifier\n",
    "from xgboost import XGBClassifier\n",
    "from sklearn.linear_model import LogisticRegression\n",
    "from sklearn.ensemble import StackingClassifier\n",
    "\n",
    "# Base models\n",
    "xgb_model = XGBClassifier(n_estimators=200, max_depth=20, learning_rate=0.2, gamma=5, colsample_bytree=0.6, subsample=1.0, random_state=42)\n",
    "rf_model = RandomForestClassifier(n_estimators=200, max_depth=20, random_state=42)\n",
    "\n",
    "# Meta-model (can be Logistic Regression or another simple classifier)\n",
    "meta_model = LogisticRegression()\n",
    "\n",
    "# Stacking Classifier\n",
    "stacked_model = StackingClassifier(estimators=[('xgb', xgb_model), ('rf', rf_model)], final_estimator=meta_model, cv=5)\n",
    "\n",
    "# Train the stacked model\n",
    "stacked_model.fit(X_train_split, y_train_split)\n",
    "\n",
    "# Evaluate performance on validation set\n",
    "y_stacked_pred = stacked_model.predict(X_val_split)\n",
    "roc_auc_stacked = roc_auc_score(y_val_split, stacked_model.predict_proba(X_val_split)[:, 1])\n",
    "print(f\"Stacking Classifier ROC-AUC Score: {roc_auc_stacked:.4f}\")\n"
   ]
  },
  {
   "cell_type": "code",
   "execution_count": 26,
   "id": "60439db9",
   "metadata": {},
   "outputs": [
    {
     "name": "stdout",
     "output_type": "stream",
     "text": [
      "Fitting 5 folds for each of 10 candidates, totalling 50 fits\n"
     ]
    },
    {
     "ename": "KeyboardInterrupt",
     "evalue": "",
     "output_type": "error",
     "traceback": [
      "\u001b[0;31m---------------------------------------------------------------------------\u001b[0m",
      "\u001b[0;31mKeyboardInterrupt\u001b[0m                         Traceback (most recent call last)",
      "Cell \u001b[0;32mIn[26], line 23\u001b[0m\n\u001b[1;32m     13\u001b[0m random_search_stacked \u001b[38;5;241m=\u001b[39m RandomizedSearchCV(\n\u001b[1;32m     14\u001b[0m     estimator\u001b[38;5;241m=\u001b[39mstacked_model, \n\u001b[1;32m     15\u001b[0m     param_distributions\u001b[38;5;241m=\u001b[39mparam_grid, \n\u001b[0;32m   (...)\u001b[0m\n\u001b[1;32m     19\u001b[0m     return_train_score\u001b[38;5;241m=\u001b[39m\u001b[38;5;28;01mTrue\u001b[39;00m\n\u001b[1;32m     20\u001b[0m )\n\u001b[1;32m     22\u001b[0m \u001b[38;5;66;03m# Fit the randomized search\u001b[39;00m\n\u001b[0;32m---> 23\u001b[0m random_search_stacked\u001b[38;5;241m.\u001b[39mfit(X_train_split, y_train_split)\n\u001b[1;32m     25\u001b[0m \u001b[38;5;66;03m# After fitting, print the results\u001b[39;00m\n\u001b[1;32m     26\u001b[0m \u001b[38;5;28mprint\u001b[39m(\u001b[38;5;124m\"\u001b[39m\u001b[38;5;130;01m\\n\u001b[39;00m\u001b[38;5;124mBest Parameters for Stacked Model: \u001b[39m\u001b[38;5;124m\"\u001b[39m, random_search_stacked\u001b[38;5;241m.\u001b[39mbest_params_)\n",
      "File \u001b[0;32m~/anaconda3/lib/python3.11/site-packages/sklearn/base.py:1473\u001b[0m, in \u001b[0;36m_fit_context.<locals>.decorator.<locals>.wrapper\u001b[0;34m(estimator, *args, **kwargs)\u001b[0m\n\u001b[1;32m   1466\u001b[0m     estimator\u001b[38;5;241m.\u001b[39m_validate_params()\n\u001b[1;32m   1468\u001b[0m \u001b[38;5;28;01mwith\u001b[39;00m config_context(\n\u001b[1;32m   1469\u001b[0m     skip_parameter_validation\u001b[38;5;241m=\u001b[39m(\n\u001b[1;32m   1470\u001b[0m         prefer_skip_nested_validation \u001b[38;5;129;01mor\u001b[39;00m global_skip_validation\n\u001b[1;32m   1471\u001b[0m     )\n\u001b[1;32m   1472\u001b[0m ):\n\u001b[0;32m-> 1473\u001b[0m     \u001b[38;5;28;01mreturn\u001b[39;00m fit_method(estimator, \u001b[38;5;241m*\u001b[39margs, \u001b[38;5;241m*\u001b[39m\u001b[38;5;241m*\u001b[39mkwargs)\n",
      "File \u001b[0;32m~/anaconda3/lib/python3.11/site-packages/sklearn/model_selection/_search.py:1019\u001b[0m, in \u001b[0;36mBaseSearchCV.fit\u001b[0;34m(self, X, y, **params)\u001b[0m\n\u001b[1;32m   1013\u001b[0m     results \u001b[38;5;241m=\u001b[39m \u001b[38;5;28mself\u001b[39m\u001b[38;5;241m.\u001b[39m_format_results(\n\u001b[1;32m   1014\u001b[0m         all_candidate_params, n_splits, all_out, all_more_results\n\u001b[1;32m   1015\u001b[0m     )\n\u001b[1;32m   1017\u001b[0m     \u001b[38;5;28;01mreturn\u001b[39;00m results\n\u001b[0;32m-> 1019\u001b[0m \u001b[38;5;28mself\u001b[39m\u001b[38;5;241m.\u001b[39m_run_search(evaluate_candidates)\n\u001b[1;32m   1021\u001b[0m \u001b[38;5;66;03m# multimetric is determined here because in the case of a callable\u001b[39;00m\n\u001b[1;32m   1022\u001b[0m \u001b[38;5;66;03m# self.scoring the return type is only known after calling\u001b[39;00m\n\u001b[1;32m   1023\u001b[0m first_test_score \u001b[38;5;241m=\u001b[39m all_out[\u001b[38;5;241m0\u001b[39m][\u001b[38;5;124m\"\u001b[39m\u001b[38;5;124mtest_scores\u001b[39m\u001b[38;5;124m\"\u001b[39m]\n",
      "File \u001b[0;32m~/anaconda3/lib/python3.11/site-packages/sklearn/model_selection/_search.py:1960\u001b[0m, in \u001b[0;36mRandomizedSearchCV._run_search\u001b[0;34m(self, evaluate_candidates)\u001b[0m\n\u001b[1;32m   1958\u001b[0m \u001b[38;5;28;01mdef\u001b[39;00m \u001b[38;5;21m_run_search\u001b[39m(\u001b[38;5;28mself\u001b[39m, evaluate_candidates):\n\u001b[1;32m   1959\u001b[0m \u001b[38;5;250m    \u001b[39m\u001b[38;5;124;03m\"\"\"Search n_iter candidates from param_distributions\"\"\"\u001b[39;00m\n\u001b[0;32m-> 1960\u001b[0m     evaluate_candidates(\n\u001b[1;32m   1961\u001b[0m         ParameterSampler(\n\u001b[1;32m   1962\u001b[0m             \u001b[38;5;28mself\u001b[39m\u001b[38;5;241m.\u001b[39mparam_distributions, \u001b[38;5;28mself\u001b[39m\u001b[38;5;241m.\u001b[39mn_iter, random_state\u001b[38;5;241m=\u001b[39m\u001b[38;5;28mself\u001b[39m\u001b[38;5;241m.\u001b[39mrandom_state\n\u001b[1;32m   1963\u001b[0m         )\n\u001b[1;32m   1964\u001b[0m     )\n",
      "File \u001b[0;32m~/anaconda3/lib/python3.11/site-packages/sklearn/model_selection/_search.py:965\u001b[0m, in \u001b[0;36mBaseSearchCV.fit.<locals>.evaluate_candidates\u001b[0;34m(candidate_params, cv, more_results)\u001b[0m\n\u001b[1;32m    957\u001b[0m \u001b[38;5;28;01mif\u001b[39;00m \u001b[38;5;28mself\u001b[39m\u001b[38;5;241m.\u001b[39mverbose \u001b[38;5;241m>\u001b[39m \u001b[38;5;241m0\u001b[39m:\n\u001b[1;32m    958\u001b[0m     \u001b[38;5;28mprint\u001b[39m(\n\u001b[1;32m    959\u001b[0m         \u001b[38;5;124m\"\u001b[39m\u001b[38;5;124mFitting \u001b[39m\u001b[38;5;132;01m{0}\u001b[39;00m\u001b[38;5;124m folds for each of \u001b[39m\u001b[38;5;132;01m{1}\u001b[39;00m\u001b[38;5;124m candidates,\u001b[39m\u001b[38;5;124m\"\u001b[39m\n\u001b[1;32m    960\u001b[0m         \u001b[38;5;124m\"\u001b[39m\u001b[38;5;124m totalling \u001b[39m\u001b[38;5;132;01m{2}\u001b[39;00m\u001b[38;5;124m fits\u001b[39m\u001b[38;5;124m\"\u001b[39m\u001b[38;5;241m.\u001b[39mformat(\n\u001b[1;32m    961\u001b[0m             n_splits, n_candidates, n_candidates \u001b[38;5;241m*\u001b[39m n_splits\n\u001b[1;32m    962\u001b[0m         )\n\u001b[1;32m    963\u001b[0m     )\n\u001b[0;32m--> 965\u001b[0m out \u001b[38;5;241m=\u001b[39m parallel(\n\u001b[1;32m    966\u001b[0m     delayed(_fit_and_score)(\n\u001b[1;32m    967\u001b[0m         clone(base_estimator),\n\u001b[1;32m    968\u001b[0m         X,\n\u001b[1;32m    969\u001b[0m         y,\n\u001b[1;32m    970\u001b[0m         train\u001b[38;5;241m=\u001b[39mtrain,\n\u001b[1;32m    971\u001b[0m         test\u001b[38;5;241m=\u001b[39mtest,\n\u001b[1;32m    972\u001b[0m         parameters\u001b[38;5;241m=\u001b[39mparameters,\n\u001b[1;32m    973\u001b[0m         split_progress\u001b[38;5;241m=\u001b[39m(split_idx, n_splits),\n\u001b[1;32m    974\u001b[0m         candidate_progress\u001b[38;5;241m=\u001b[39m(cand_idx, n_candidates),\n\u001b[1;32m    975\u001b[0m         \u001b[38;5;241m*\u001b[39m\u001b[38;5;241m*\u001b[39mfit_and_score_kwargs,\n\u001b[1;32m    976\u001b[0m     )\n\u001b[1;32m    977\u001b[0m     \u001b[38;5;28;01mfor\u001b[39;00m (cand_idx, parameters), (split_idx, (train, test)) \u001b[38;5;129;01min\u001b[39;00m product(\n\u001b[1;32m    978\u001b[0m         \u001b[38;5;28menumerate\u001b[39m(candidate_params),\n\u001b[1;32m    979\u001b[0m         \u001b[38;5;28menumerate\u001b[39m(cv\u001b[38;5;241m.\u001b[39msplit(X, y, \u001b[38;5;241m*\u001b[39m\u001b[38;5;241m*\u001b[39mrouted_params\u001b[38;5;241m.\u001b[39msplitter\u001b[38;5;241m.\u001b[39msplit)),\n\u001b[1;32m    980\u001b[0m     )\n\u001b[1;32m    981\u001b[0m )\n\u001b[1;32m    983\u001b[0m \u001b[38;5;28;01mif\u001b[39;00m \u001b[38;5;28mlen\u001b[39m(out) \u001b[38;5;241m<\u001b[39m \u001b[38;5;241m1\u001b[39m:\n\u001b[1;32m    984\u001b[0m     \u001b[38;5;28;01mraise\u001b[39;00m \u001b[38;5;167;01mValueError\u001b[39;00m(\n\u001b[1;32m    985\u001b[0m         \u001b[38;5;124m\"\u001b[39m\u001b[38;5;124mNo fits were performed. \u001b[39m\u001b[38;5;124m\"\u001b[39m\n\u001b[1;32m    986\u001b[0m         \u001b[38;5;124m\"\u001b[39m\u001b[38;5;124mWas the CV iterator empty? \u001b[39m\u001b[38;5;124m\"\u001b[39m\n\u001b[1;32m    987\u001b[0m         \u001b[38;5;124m\"\u001b[39m\u001b[38;5;124mWere there no candidates?\u001b[39m\u001b[38;5;124m\"\u001b[39m\n\u001b[1;32m    988\u001b[0m     )\n",
      "File \u001b[0;32m~/anaconda3/lib/python3.11/site-packages/sklearn/utils/parallel.py:74\u001b[0m, in \u001b[0;36mParallel.__call__\u001b[0;34m(self, iterable)\u001b[0m\n\u001b[1;32m     69\u001b[0m config \u001b[38;5;241m=\u001b[39m get_config()\n\u001b[1;32m     70\u001b[0m iterable_with_config \u001b[38;5;241m=\u001b[39m (\n\u001b[1;32m     71\u001b[0m     (_with_config(delayed_func, config), args, kwargs)\n\u001b[1;32m     72\u001b[0m     \u001b[38;5;28;01mfor\u001b[39;00m delayed_func, args, kwargs \u001b[38;5;129;01min\u001b[39;00m iterable\n\u001b[1;32m     73\u001b[0m )\n\u001b[0;32m---> 74\u001b[0m \u001b[38;5;28;01mreturn\u001b[39;00m \u001b[38;5;28msuper\u001b[39m()\u001b[38;5;241m.\u001b[39m\u001b[38;5;21m__call__\u001b[39m(iterable_with_config)\n",
      "File \u001b[0;32m~/anaconda3/lib/python3.11/site-packages/joblib/parallel.py:1098\u001b[0m, in \u001b[0;36mParallel.__call__\u001b[0;34m(self, iterable)\u001b[0m\n\u001b[1;32m   1095\u001b[0m     \u001b[38;5;28mself\u001b[39m\u001b[38;5;241m.\u001b[39m_iterating \u001b[38;5;241m=\u001b[39m \u001b[38;5;28;01mFalse\u001b[39;00m\n\u001b[1;32m   1097\u001b[0m \u001b[38;5;28;01mwith\u001b[39;00m \u001b[38;5;28mself\u001b[39m\u001b[38;5;241m.\u001b[39m_backend\u001b[38;5;241m.\u001b[39mretrieval_context():\n\u001b[0;32m-> 1098\u001b[0m     \u001b[38;5;28mself\u001b[39m\u001b[38;5;241m.\u001b[39mretrieve()\n\u001b[1;32m   1099\u001b[0m \u001b[38;5;66;03m# Make sure that we get a last message telling us we are done\u001b[39;00m\n\u001b[1;32m   1100\u001b[0m elapsed_time \u001b[38;5;241m=\u001b[39m time\u001b[38;5;241m.\u001b[39mtime() \u001b[38;5;241m-\u001b[39m \u001b[38;5;28mself\u001b[39m\u001b[38;5;241m.\u001b[39m_start_time\n",
      "File \u001b[0;32m~/anaconda3/lib/python3.11/site-packages/joblib/parallel.py:975\u001b[0m, in \u001b[0;36mParallel.retrieve\u001b[0;34m(self)\u001b[0m\n\u001b[1;32m    973\u001b[0m \u001b[38;5;28;01mtry\u001b[39;00m:\n\u001b[1;32m    974\u001b[0m     \u001b[38;5;28;01mif\u001b[39;00m \u001b[38;5;28mgetattr\u001b[39m(\u001b[38;5;28mself\u001b[39m\u001b[38;5;241m.\u001b[39m_backend, \u001b[38;5;124m'\u001b[39m\u001b[38;5;124msupports_timeout\u001b[39m\u001b[38;5;124m'\u001b[39m, \u001b[38;5;28;01mFalse\u001b[39;00m):\n\u001b[0;32m--> 975\u001b[0m         \u001b[38;5;28mself\u001b[39m\u001b[38;5;241m.\u001b[39m_output\u001b[38;5;241m.\u001b[39mextend(job\u001b[38;5;241m.\u001b[39mget(timeout\u001b[38;5;241m=\u001b[39m\u001b[38;5;28mself\u001b[39m\u001b[38;5;241m.\u001b[39mtimeout))\n\u001b[1;32m    976\u001b[0m     \u001b[38;5;28;01melse\u001b[39;00m:\n\u001b[1;32m    977\u001b[0m         \u001b[38;5;28mself\u001b[39m\u001b[38;5;241m.\u001b[39m_output\u001b[38;5;241m.\u001b[39mextend(job\u001b[38;5;241m.\u001b[39mget())\n",
      "File \u001b[0;32m~/anaconda3/lib/python3.11/site-packages/joblib/_parallel_backends.py:567\u001b[0m, in \u001b[0;36mLokyBackend.wrap_future_result\u001b[0;34m(future, timeout)\u001b[0m\n\u001b[1;32m    564\u001b[0m \u001b[38;5;250m\u001b[39m\u001b[38;5;124;03m\"\"\"Wrapper for Future.result to implement the same behaviour as\u001b[39;00m\n\u001b[1;32m    565\u001b[0m \u001b[38;5;124;03mAsyncResults.get from multiprocessing.\"\"\"\u001b[39;00m\n\u001b[1;32m    566\u001b[0m \u001b[38;5;28;01mtry\u001b[39;00m:\n\u001b[0;32m--> 567\u001b[0m     \u001b[38;5;28;01mreturn\u001b[39;00m future\u001b[38;5;241m.\u001b[39mresult(timeout\u001b[38;5;241m=\u001b[39mtimeout)\n\u001b[1;32m    568\u001b[0m \u001b[38;5;28;01mexcept\u001b[39;00m CfTimeoutError \u001b[38;5;28;01mas\u001b[39;00m e:\n\u001b[1;32m    569\u001b[0m     \u001b[38;5;28;01mraise\u001b[39;00m \u001b[38;5;167;01mTimeoutError\u001b[39;00m \u001b[38;5;28;01mfrom\u001b[39;00m \u001b[38;5;21;01me\u001b[39;00m\n",
      "File \u001b[0;32m~/anaconda3/lib/python3.11/concurrent/futures/_base.py:451\u001b[0m, in \u001b[0;36mFuture.result\u001b[0;34m(self, timeout)\u001b[0m\n\u001b[1;32m    448\u001b[0m \u001b[38;5;28;01melif\u001b[39;00m \u001b[38;5;28mself\u001b[39m\u001b[38;5;241m.\u001b[39m_state \u001b[38;5;241m==\u001b[39m FINISHED:\n\u001b[1;32m    449\u001b[0m     \u001b[38;5;28;01mreturn\u001b[39;00m \u001b[38;5;28mself\u001b[39m\u001b[38;5;241m.\u001b[39m__get_result()\n\u001b[0;32m--> 451\u001b[0m \u001b[38;5;28mself\u001b[39m\u001b[38;5;241m.\u001b[39m_condition\u001b[38;5;241m.\u001b[39mwait(timeout)\n\u001b[1;32m    453\u001b[0m \u001b[38;5;28;01mif\u001b[39;00m \u001b[38;5;28mself\u001b[39m\u001b[38;5;241m.\u001b[39m_state \u001b[38;5;129;01min\u001b[39;00m [CANCELLED, CANCELLED_AND_NOTIFIED]:\n\u001b[1;32m    454\u001b[0m     \u001b[38;5;28;01mraise\u001b[39;00m CancelledError()\n",
      "File \u001b[0;32m~/anaconda3/lib/python3.11/threading.py:320\u001b[0m, in \u001b[0;36mCondition.wait\u001b[0;34m(self, timeout)\u001b[0m\n\u001b[1;32m    318\u001b[0m \u001b[38;5;28;01mtry\u001b[39;00m:    \u001b[38;5;66;03m# restore state no matter what (e.g., KeyboardInterrupt)\u001b[39;00m\n\u001b[1;32m    319\u001b[0m     \u001b[38;5;28;01mif\u001b[39;00m timeout \u001b[38;5;129;01mis\u001b[39;00m \u001b[38;5;28;01mNone\u001b[39;00m:\n\u001b[0;32m--> 320\u001b[0m         waiter\u001b[38;5;241m.\u001b[39macquire()\n\u001b[1;32m    321\u001b[0m         gotit \u001b[38;5;241m=\u001b[39m \u001b[38;5;28;01mTrue\u001b[39;00m\n\u001b[1;32m    322\u001b[0m     \u001b[38;5;28;01melse\u001b[39;00m:\n",
      "\u001b[0;31mKeyboardInterrupt\u001b[0m: "
     ]
    }
   ],
   "source": [
    "from sklearn.model_selection import RandomizedSearchCV\n",
    "\n",
    "# Define parameter grid for hyperparameter tuning\n",
    "param_grid = {\n",
    "    'xgb__n_estimators': [200, 300],\n",
    "    'xgb__learning_rate': [0.1, 0.2],\n",
    "    'xgb__max_depth': [10, 20],\n",
    "    'rf__n_estimators': [200, 300],\n",
    "    'rf__max_depth': [20, 30]\n",
    "}\n",
    "\n",
    "# Set verbose=5 for real-time detailed output\n",
    "random_search_stacked = RandomizedSearchCV(\n",
    "    estimator=stacked_model, \n",
    "    param_distributions=param_grid, \n",
    "    cv=5, \n",
    "    n_jobs=-1, \n",
    "    verbose=5,  # Detailed output for each fold\n",
    "    return_train_score=True\n",
    ")\n",
    "\n",
    "# Fit the randomized search\n",
    "random_search_stacked.fit(X_train_split, y_train_split)\n",
    "\n",
    "# After fitting, print the results\n",
    "print(\"\\nBest Parameters for Stacked Model: \", random_search_stacked.best_params_)\n",
    "print(\"Best ROC-AUC for Stacked Model: \", random_search_stacked.best_score_)\n",
    "\n",
    "# Print each combination and their corresponding ROC-AUC scores\n",
    "results = random_search_stacked.cv_results_\n",
    "for i in range(len(results['params'])):\n",
    "    print(f\"Combination {i+1}: {results['params'][i]}\")\n",
    "    print(f\"Mean ROC-AUC Score: {results['mean_test_score'][i]:.4f}\")\n",
    "    print('-' * 40)\n"
   ]
  },
  {
   "cell_type": "code",
   "execution_count": null,
   "id": "1abf8587",
   "metadata": {},
   "outputs": [],
   "source": [
    "# Retrieve the best model\n",
    "best_stacked_model = random_search_stacked.best_estimator_\n",
    "\n",
    "# Make predictions on the validation set\n",
    "y_stacked_pred = best_stacked_model.predict(X_val_split)\n",
    "\n",
    "# Calculate ROC-AUC score\n",
    "roc_auc_stacked = roc_auc_score(y_val_split, best_stacked_model.predict_proba(X_val_split)[:, 1])\n",
    "print(f\"Final ROC-AUC Score for Stacked Model: {roc_auc_stacked:.4f}\")\n",
    "\n",
    "# Print classification report and confusion matrix\n",
    "from sklearn.metrics import classification_report, confusion_matrix\n",
    "import seaborn as sns\n",
    "import matplotlib.pyplot as plt\n",
    "\n",
    "# Classification report\n",
    "print(\"Classification Report:\\n\", classification_report(y_val_split, y_stacked_pred))\n",
    "\n",
    "# Confusion matrix\n",
    "conf_matrix = confusion_matrix(y_val_split, y_stacked_pred)\n",
    "plt.figure(figsize=(6,4))\n",
    "sns.heatmap(conf_matrix, annot=True, fmt='d', cmap='Blues')\n",
    "plt.title('Confusion Matrix - Stacked Model')\n",
    "plt.ylabel('Actual Class')\n",
    "plt.xlabel('Predicted Class')\n",
    "plt.show()\n"
   ]
  },
  {
   "cell_type": "code",
   "execution_count": null,
   "id": "d98ec9d1",
   "metadata": {
    "scrolled": true
   },
   "outputs": [],
   "source": [
    "# Get predicted probabilities from the best stacked model\n",
    "y_stacked_proba = best_stacked_model.predict_proba(X_val_split)[:, 1]\n",
    "\n",
    "# Adjust the decision threshold (try 0.45 or lower)\n",
    "threshold = 0.45\n",
    "y_thresh_pred = (y_stacked_proba >= threshold).astype(int)\n",
    "\n",
    "# Evaluate with the adjusted threshold\n",
    "from sklearn.metrics import roc_auc_score, classification_report\n",
    "\n",
    "roc_auc_thresh = roc_auc_score(y_val_split, y_stacked_proba)\n",
    "print(f\"ROC-AUC Score with Adjusted Threshold: {roc_auc_thresh:.4f}\")\n",
    "print(\"Classification Report with Adjusted Threshold:\\n\", classification_report(y_val_split, y_thresh_pred))\n"
   ]
  },
  {
   "cell_type": "code",
   "execution_count": null,
   "id": "e8869720",
   "metadata": {},
   "outputs": [],
   "source": [
    "# Get predicted probabilities from each model\n",
    "xgb_proba = best_stacked_model.named_estimators_['xgb'].predict_proba(X_val_split)[:, 1]\n",
    "rf_proba = best_stacked_model.named_estimators_['rf'].predict_proba(X_val_split)[:, 1]\n",
    "stacked_proba = best_stacked_model.predict_proba(X_val_split)[:, 1]\n",
    "\n",
    "# Blending: Averaging the probabilities\n",
    "blended_proba = (xgb_proba + rf_proba + stacked_proba) / 3\n",
    "\n",
    "# Adjust decision threshold for the blended model\n",
    "blended_thresh = 0.45  # Adjust threshold if needed\n",
    "blended_pred = (blended_proba >= blended_thresh).astype(int)\n",
    "\n",
    "# Evaluate the blended model with ROC-AUC\n",
    "roc_auc_blended = roc_auc_score(y_val_split, blended_proba)\n",
    "print(f\"Blended Model ROC-AUC Score: {roc_auc_blended:.4f}\")\n",
    "\n",
    "# Classification report for blended model\n",
    "print(\"Classification Report for Blended Model:\\n\", classification_report(y_val_split, blended_pred))\n"
   ]
  },
  {
   "cell_type": "code",
   "execution_count": null,
   "id": "666d6da2",
   "metadata": {},
   "outputs": [],
   "source": [
    "# Fit the Random Forest model on the training data\n",
    "rf_model.fit(X_train_split, y_train_split)\n",
    "\n",
    "# Now get the predicted probabilities from individual models (XGBoost and Random Forest)\n",
    "xgb_proba = best_xgb_model.predict_proba(X_val_split)[:, 1]\n",
    "rf_proba = rf_model.predict_proba(X_val_split)[:, 1]\n",
    "\n",
    "# Optimize the blending weights\n",
    "alpha = 0.7  # Weight for XGBoost\n",
    "beta = 1 - alpha  # Weight for Random Forest\n",
    "\n",
    "# Calculate weighted average of probabilities\n",
    "blended_proba_weighted = (alpha * xgb_proba) + (beta * rf_proba)\n",
    "\n",
    "# Make predictions based on the blended probabilities\n",
    "y_blended_weighted_pred = (blended_proba_weighted >= 0.5).astype(int)\n",
    "\n",
    "# Evaluate the performance of the weighted blended model\n",
    "roc_auc_blended_weighted = roc_auc_score(y_val_split, blended_proba_weighted)\n",
    "print(f\"Weighted Blended Model ROC-AUC Score: {roc_auc_blended_weighted:.4f}\")\n",
    "\n",
    "# Classification report for the weighted blended model\n",
    "print(\"Classification Report for Weighted Blended Model:\\n\", classification_report(y_val_split, y_blended_weighted_pred))\n"
   ]
  },
  {
   "cell_type": "code",
   "execution_count": null,
   "id": "7fa08f03",
   "metadata": {},
   "outputs": [],
   "source": [
    "# Adjust the blending weights (try different values)\n",
    "alpha = 0.6  # Experiment with different alpha values\n",
    "beta = 1 - alpha  # The weight for Random Forest\n",
    "\n",
    "# Calculate weighted probabilities\n",
    "blended_proba_weighted = (alpha * xgb_proba) + (beta * rf_proba)\n",
    "\n",
    "# Evaluate the blended model\n",
    "y_blended_weighted_pred = (blended_proba_weighted >= 0.5).astype(int)\n",
    "roc_auc_blended_weighted = roc_auc_score(y_val_split, blended_proba_weighted)\n",
    "print(f\"ROC-AUC with adjusted alpha ({alpha}): {roc_auc_blended_weighted:.4f}\")\n"
   ]
  },
  {
   "cell_type": "code",
   "execution_count": null,
   "id": "3967727b",
   "metadata": {},
   "outputs": [],
   "source": [
    "import lightgbm as lgb\n",
    "\n",
    "# Initialize LightGBM model\n",
    "lgb_model = lgb.LGBMClassifier(n_estimators=200, max_depth=10, learning_rate=0.2, random_state=42)\n",
    "\n",
    "# Train LightGBM\n",
    "lgb_model.fit(X_train_split, y_train_split)\n",
    "\n",
    "# Get predicted probabilities from LightGBM\n",
    "lgb_proba = lgb_model.predict_proba(X_val_split)[:, 1]\n",
    "\n",
    "# Blend XGBoost, Random Forest, and LightGBM probabilities\n",
    "alpha = 0.6  # Weight for XGBoost\n",
    "beta = 0.2   # Weight for Random Forest\n",
    "gamma = 1 - (alpha + beta)  # Weight for LightGBM\n",
    "\n",
    "# Weighted average of probabilities\n",
    "blended_proba_all = (alpha * xgb_proba) + (beta * rf_proba) + (gamma * lgb_proba)\n",
    "\n",
    "# Make predictions based on blended probabilities\n",
    "y_blended_all_pred = (blended_proba_all >= 0.5).astype(int)\n",
    "\n",
    "# Evaluate the new blended model\n",
    "roc_auc_blended_all = roc_auc_score(y_val_split, blended_proba_all)\n",
    "print(f\"Blended Model (XGB + RF + LGB) ROC-AUC Score: {roc_auc_blended_all:.4f}\")\n",
    "\n",
    "# Print classification report\n",
    "print(\"Classification Report for Blended Model with LightGBM:\\n\", classification_report(y_val_split, y_blended_all_pred))\n"
   ]
  },
  {
   "cell_type": "code",
   "execution_count": null,
   "id": "475ac899",
   "metadata": {},
   "outputs": [],
   "source": [
    "train_data['income_to_loan_ratio'] = train_data['person_income'] / train_data['loan_amnt']\n",
    "test_data['income_to_loan_ratio'] = test_data['person_income'] / test_data['loan_amnt']\n",
    "\n",
    "train_data['age_income_interaction'] = train_data['person_age'] * train_data['person_income']\n",
    "test_data['age_income_interaction'] = test_data['person_age'] * test_data['person_income']\n",
    "\n",
    "train_data['cred_hist_loan_amnt_ratio'] = train_data['cb_person_cred_hist_length'] / train_data['loan_amnt']\n",
    "test_data['cred_hist_loan_amnt_ratio'] = test_data['cb_person_cred_hist_length'] / test_data['loan_amnt']\n"
   ]
  },
  {
   "cell_type": "code",
   "execution_count": null,
   "id": "a9dba103",
   "metadata": {},
   "outputs": [],
   "source": [
    "from skopt import BayesSearchCV\n",
    "\n",
    "# Define the parameter space for Bayesian optimization\n",
    "param_space = {\n",
    "    'n_estimators': (100, 300),\n",
    "    'max_depth': (5, 20),\n",
    "    'learning_rate': (0.01, 0.3),\n",
    "    'gamma': (0, 5),\n",
    "    'colsample_bytree': (0.5, 1.0),\n",
    "    'subsample': (0.7, 1.0)\n",
    "}\n",
    "\n",
    "# Initialize Bayesian search for XGBoost\n",
    "bayes_search_xgb = BayesSearchCV(estimator=best_xgb_model, search_spaces=param_space, n_iter=50, cv=5, n_jobs=-1, verbose=5)\n",
    "\n",
    "# Fit Bayesian search\n",
    "bayes_search_xgb.fit(X_train_split, y_train_split)\n",
    "\n",
    "# Get the best parameters and score\n",
    "best_params_bayes = bayes_search_xgb.best_params_\n",
    "best_roc_auc_bayes = bayes_search_xgb.best_score_\n",
    "print(f\"Best ROC-AUC with Bayesian Optimization: {best_roc_auc_bayes:.4f}\")\n"
   ]
  },
  {
   "cell_type": "code",
   "execution_count": null,
   "id": "9a24b360",
   "metadata": {},
   "outputs": [],
   "source": [
    "# Blend the probabilities with different weights\n",
    "# Adjust alpha, beta, and gamma to fine-tune the blend\n",
    "alpha = 0.5  # Weight for XGBoost\n",
    "beta = 0.3   # Weight for Random Forest\n",
    "gamma = 1 - (alpha + beta)  # Weight for LightGBM\n",
    "\n",
    "# Weighted average of probabilities\n",
    "blended_proba_optimized = (alpha * xgb_proba) + (beta * rf_proba) + (gamma * lgb_proba)\n",
    "\n",
    "# Make predictions based on blended probabilities\n",
    "y_blended_optimized_pred = (blended_proba_optimized >= 0.5).astype(int)\n",
    "\n",
    "# Evaluate the blended model\n",
    "roc_auc_blended_optimized = roc_auc_score(y_val_split, blended_proba_optimized)\n",
    "print(f\"Optimized Blended Model ROC-AUC Score: {roc_auc_blended_optimized:.4f}\")\n",
    "\n",
    "# Print classification report\n",
    "print(\"Classification Report for Optimized Blended Model:\\n\", classification_report(y_val_split, y_blended_optimized_pred))\n"
   ]
  },
  {
   "cell_type": "code",
   "execution_count": null,
   "id": "cc364e93",
   "metadata": {},
   "outputs": [],
   "source": [
    "from catboost import CatBoostClassifier\n",
    "\n",
    "# Initialize CatBoost model\n",
    "cat_model = CatBoostClassifier(iterations=200, depth=10, learning_rate=0.1, verbose=0)\n",
    "\n",
    "# Train CatBoost\n",
    "cat_model.fit(X_train_split, y_train_split)\n",
    "\n",
    "# Get CatBoost predicted probabilities\n",
    "cat_proba = cat_model.predict_proba(X_val_split)[:, 1]\n",
    "\n",
    "# Adjust blending weights (XGBoost, Random Forest, LightGBM, CatBoost)\n",
    "alpha = 0.4  # Weight for XGBoost\n",
    "beta = 0.2   # Weight for Random Forest\n",
    "gamma = 0.2  # Weight for LightGBM\n",
    "delta = 1 - (alpha + beta + gamma)  # Weight for CatBoost\n",
    "\n",
    "# Calculate weighted average of probabilities with CatBoost\n",
    "blended_proba_with_cat = (alpha * xgb_proba) + (beta * rf_proba) + (gamma * lgb_proba) + (delta * cat_proba)\n",
    "\n",
    "# Make predictions based on the blended probabilities\n",
    "y_blended_with_cat_pred = (blended_proba_with_cat >= 0.5).astype(int)\n",
    "\n",
    "# Evaluate the blended model with CatBoost\n",
    "roc_auc_blended_with_cat = roc_auc_score(y_val_split, blended_proba_with_cat)\n",
    "print(f\"Blended Model with CatBoost ROC-AUC Score: {roc_auc_blended_with_cat:.4f}\")\n",
    "\n",
    "# Print classification report\n",
    "print(\"Classification Report for Blended Model with CatBoost:\\n\", classification_report(y_val_split, y_blended_with_cat_pred))\n"
   ]
  },
  {
   "cell_type": "code",
   "execution_count": null,
   "id": "0a105cf2",
   "metadata": {},
   "outputs": [],
   "source": [
    "# Adjust blending weights for XGBoost, Random Forest, LightGBM, and CatBoost\n",
    "alpha = 0.45  # Weight for XGBoost\n",
    "beta = 0.2    # Weight for Random Forest\n",
    "gamma = 0.2   # Weight for LightGBM\n",
    "delta = 1 - (alpha + beta + gamma)  # Weight for CatBoost\n",
    "\n",
    "# Calculate weighted average of probabilities\n",
    "blended_proba_optimized_cat = (alpha * xgb_proba) + (beta * rf_proba) + (gamma * lgb_proba) + (delta * cat_proba)\n",
    "\n",
    "# Make predictions based on blended probabilities\n",
    "y_blended_optimized_cat_pred = (blended_proba_optimized_cat >= 0.5).astype(int)\n",
    "\n",
    "# Evaluate the blended model with optimized weights\n",
    "roc_auc_blended_optimized_cat = roc_auc_score(y_val_split, blended_proba_optimized_cat)\n",
    "print(f\"Optimized Blended Model with CatBoost ROC-AUC Score: {roc_auc_blended_optimized_cat:.4f}\")\n",
    "\n",
    "# Print classification report\n",
    "from sklearn.metrics import classification_report\n",
    "print(\"Classification Report for Optimized Blended Model with CatBoost:\\n\", classification_report(y_val_split, y_blended_optimized_cat_pred))\n"
   ]
  },
  {
   "cell_type": "code",
   "execution_count": null,
   "id": "b9f027e5",
   "metadata": {},
   "outputs": [],
   "source": [
    "# Adjust the decision threshold\n",
    "threshold = 0.4  # Try lowering this to improve recall for Class 1\n",
    "\n",
    "# Make predictions based on the new threshold\n",
    "y_thresh_pred = (blended_proba_optimized_cat >= threshold).astype(int)\n",
    "\n",
    "# Evaluate the model with the adjusted threshold\n",
    "roc_auc_thresh = roc_auc_score(y_val_split, blended_proba_optimized_cat)\n",
    "print(f\"ROC-AUC with Adjusted Threshold ({threshold}): {roc_auc_thresh:.4f}\")\n",
    "\n",
    "# Print classification report\n",
    "print(\"Classification Report with Adjusted Threshold:\\n\", classification_report(y_val_split, y_thresh_pred))\n"
   ]
  },
  {
   "cell_type": "code",
   "execution_count": null,
   "id": "78550f63",
   "metadata": {},
   "outputs": [],
   "source": [
    "from sklearn.ensemble import StackingClassifier\n",
    "from sklearn.linear_model import LogisticRegression\n",
    "\n",
    "# Define base models\n",
    "base_models = [\n",
    "    ('xgb', best_xgb_model),\n",
    "    ('rf', rf_model),\n",
    "    ('lgb', lgb_model),\n",
    "    ('cat', cat_model)\n",
    "]\n",
    "\n",
    "# Meta-model (e.g., Logistic Regression)\n",
    "meta_model = LogisticRegression()\n",
    "\n",
    "# Create a Stacking Classifier\n",
    "stacked_model = StackingClassifier(estimators=base_models, final_estimator=meta_model, cv=5)\n",
    "\n",
    "# Train the stacked model\n",
    "stacked_model.fit(X_train_split, y_train_split)\n",
    "\n",
    "# Evaluate the stacked model\n",
    "y_stacked_pred = stacked_model.predict(X_val_split)\n",
    "roc_auc_stacked = roc_auc_score(y_val_split, stacked_model.predict_proba(X_val_split)[:, 1])\n",
    "print(f\"Two-Layer Stacked Model ROC-AUC Score: {roc_auc_stacked:.4f}\")\n",
    "\n",
    "# Print classification report\n",
    "from sklearn.metrics import classification_report\n",
    "print(\"Classification Report for Two-Layer Stacked Model:\\n\", classification_report(y_val_split, y_stacked_pred))\n"
   ]
  },
  {
   "cell_type": "code",
   "execution_count": null,
   "id": "747e594d",
   "metadata": {},
   "outputs": [],
   "source": [
    "from sklearn.linear_model import RidgeClassifier\n",
    "\n",
    "# Define a Ridge meta-model\n",
    "meta_model = RidgeClassifier()\n",
    "\n",
    "# Create a Stacking Classifier with the Ridge meta-model\n",
    "stacked_model_ridge = StackingClassifier(estimators=base_models, final_estimator=meta_model, cv=5)\n",
    "\n",
    "# Train the stacked model\n",
    "stacked_model_ridge.fit(X_train_split, y_train_split)\n",
    "\n",
    "# Evaluate the Ridge-stacked model\n",
    "y_stacked_ridge_pred = stacked_model_ridge.predict(X_val_split)\n",
    "roc_auc_stacked_ridge = roc_auc_score(y_val_split, stacked_model_ridge.predict_proba(X_val_split)[:, 1])\n",
    "print(f\"Ridge-Stacked Model ROC-AUC Score: {roc_auc_stacked_ridge:.4f}\")\n",
    "\n",
    "# Print classification report\n",
    "print(\"Classification Report for Ridge-Stacked Model:\\n\", classification_report(y_val_split, y_stacked_ridge_pred))\n"
   ]
  },
  {
   "cell_type": "code",
   "execution_count": null,
   "id": "36b62112",
   "metadata": {},
   "outputs": [],
   "source": [
    "from sklearn.linear_model import LogisticRegression\n",
    "\n",
    "# Define Logistic Regression meta-model\n",
    "meta_model = LogisticRegression()\n",
    "\n",
    "# Create a Stacking Classifier with Logistic Regression as the meta-model\n",
    "stacked_model_logreg = StackingClassifier(estimators=base_models, final_estimator=meta_model, cv=5)\n",
    "\n",
    "# Train the stacked model\n",
    "stacked_model_logreg.fit(X_train_split, y_train_split)\n",
    "\n",
    "# Evaluate the Logistic Regression-stacked model\n",
    "y_stacked_logreg_pred = stacked_model_logreg.predict(X_val_split)\n",
    "roc_auc_stacked_logreg = roc_auc_score(y_val_split, stacked_model_logreg.predict_proba(X_val_split)[:, 1])\n",
    "print(f\"Logistic Regression-Stacked Model ROC-AUC Score: {roc_auc_stacked_logreg:.4f}\")\n",
    "\n",
    "# Print classification report\n",
    "print(\"Classification Report for Logistic Regression-Stacked Model:\\n\", classification_report(y_val_split, y_stacked_logreg_pred))\n"
   ]
  },
  {
   "cell_type": "code",
   "execution_count": null,
   "id": "6b66812a",
   "metadata": {},
   "outputs": [],
   "source": [
    "# Adjust the decision threshold (try lowering it to 0.45 or 0.4 to boost recall)\n",
    "threshold = 0.45\n",
    "\n",
    "# Get probabilities from the stacked model\n",
    "y_stacked_proba = stacked_model_logreg.predict_proba(X_val_split)[:, 1]\n",
    "\n",
    "# Make predictions with the adjusted threshold\n",
    "y_thresh_pred = (y_stacked_proba >= threshold).astype(int)\n",
    "\n",
    "# Evaluate the model with the adjusted threshold\n",
    "roc_auc_thresh = roc_auc_score(y_val_split, y_stacked_proba)\n",
    "print(f\"ROC-AUC with Adjusted Threshold ({threshold}): {roc_auc_thresh:.4f}\")\n",
    "\n",
    "# Print classification report with the adjusted threshold\n",
    "print(\"Classification Report with Adjusted Threshold:\\n\", classification_report(y_val_split, y_thresh_pred))\n",
    "\n"
   ]
  },
  {
   "cell_type": "code",
   "execution_count": null,
   "id": "231c85e0",
   "metadata": {},
   "outputs": [],
   "source": [
    "from sklearn.model_selection import cross_val_score\n",
    "\n",
    "# Perform 5-fold cross-validation on the final stacked model\n",
    "cv_scores = cross_val_score(stacked_model_logreg, X_train, y_train, cv=5, scoring='roc_auc')\n",
    "\n",
    "# Print the cross-validation ROC-AUC scores\n",
    "print(f\"Cross-Validation ROC-AUC Scores: {cv_scores}\")\n",
    "print(f\"Mean Cross-Validation ROC-AUC: {cv_scores.mean():.4f}\")\n"
   ]
  },
  {
   "cell_type": "code",
   "execution_count": null,
   "id": "383aaac1",
   "metadata": {},
   "outputs": [],
   "source": [
    "# Adjust the decision threshold (try 0.45 or 0.4 to improve recall for Class 1)\n",
    "threshold = 0.45\n",
    "\n",
    "# Get predicted probabilities from the stacked model\n",
    "y_stacked_proba = stacked_model_logreg.predict_proba(X_val_split)[:, 1]\n",
    "\n",
    "# Make predictions with the new threshold\n",
    "y_thresh_pred = (y_stacked_proba >= threshold).astype(int)\n",
    "\n",
    "# Evaluate with the adjusted threshold\n",
    "roc_auc_thresh = roc_auc_score(y_val_split, y_stacked_proba)\n",
    "print(f\"ROC-AUC with Adjusted Threshold ({threshold}): {roc_auc_thresh:.4f}\")\n",
    "\n",
    "# Print classification report with adjusted threshold\n",
    "from sklearn.metrics import classification_report\n",
    "print(\"Classification Report with Adjusted Threshold:\\n\", classification_report(y_val_split, y_thresh_pred))\n"
   ]
  },
  {
   "cell_type": "code",
   "execution_count": null,
   "id": "7d7954c8",
   "metadata": {},
   "outputs": [],
   "source": [
    "train_data['income_to_loan_ratio'] = train_data['person_income'] / train_data['loan_amnt']\n",
    "test_data['income_to_loan_ratio'] = test_data['person_income'] / test_data['loan_amnt']\n",
    "\n",
    "train_data['cred_hist_loan_amnt_ratio'] = train_data['cb_person_cred_hist_length'] / train_data['loan_amnt']\n",
    "test_data['cred_hist_loan_amnt_ratio'] = test_data['cb_person_cred_hist_length'] / test_data['loan_amnt']\n",
    "\n",
    "train_data['age_income_ratio'] = train_data['person_age'] / train_data['person_income']\n",
    "test_data['age_income_ratio'] = test_data['person_age'] / test_data['person_income']\n",
    "\n",
    "train_data['age_cred_hist_interaction'] = train_data['person_age'] * train_data['cb_person_cred_hist_length']\n",
    "test_data['age_cred_hist_interaction'] = test_data['person_age'] * test_data['cb_person_cred_hist_length']\n"
   ]
  },
  {
   "cell_type": "code",
   "execution_count": null,
   "id": "44c9cdfb",
   "metadata": {},
   "outputs": [],
   "source": [
    "# Retrain base models with the updated dataset\n",
    "best_xgb_model.fit(X_train_split, y_train_split)\n",
    "rf_model.fit(X_train_split, y_train_split)\n",
    "lgb_model.fit(X_train_split, y_train_split)\n",
    "cat_model.fit(X_train_split, y_train_split)\n",
    "\n",
    "# Re-evaluate the stacking model with the new features\n",
    "stacked_model_logreg.fit(X_train_split, y_train_split)\n",
    "\n",
    "# Get the new ROC-AUC score\n",
    "y_stacked_proba = stacked_model_logreg.predict_proba(X_val_split)[:, 1]\n",
    "roc_auc_stacked_new_features = roc_auc_score(y_val_split, y_stacked_proba)\n",
    "print(f\"Stacked Model ROC-AUC Score with New Features: {roc_auc_stacked_new_features:.4f}\")\n",
    "\n",
    "# Print classification report\n",
    "y_stacked_pred = stacked_model_logreg.predict(X_val_split)\n",
    "print(\"Classification Report for Stacked Model with New Features:\\n\", classification_report(y_val_split, y_stacked_pred))\n"
   ]
  },
  {
   "cell_type": "code",
   "execution_count": null,
   "id": "1ee5b981",
   "metadata": {
    "scrolled": true
   },
   "outputs": [],
   "source": [
    "# Create the GridSearchCV object without parallel processing\n",
    "grid_search_stacked = GridSearchCV(\n",
    "    estimator=stacked_model_logreg,  # Your existing stacked model\n",
    "    param_grid=param_grid,\n",
    "    scoring='roc_auc',  # Optimize for ROC-AUC\n",
    "    cv=5,\n",
    "    n_jobs=1,  # Disable parallelism\n",
    "    verbose=3\n",
    ")\n",
    "\n",
    "# Fit the grid search\n",
    "grid_search_stacked.fit(X_train_split, y_train_split)\n"
   ]
  },
  {
   "cell_type": "code",
   "execution_count": null,
   "id": "9aab7039",
   "metadata": {},
   "outputs": [],
   "source": [
    "# Get the best estimator (stacked model with tuned hyperparameters)\n",
    "best_stacked_model = grid_search_stacked.best_estimator_\n",
    "\n",
    "# Predict probabilities on the validation set\n",
    "y_best_stacked_proba = best_stacked_model.predict_proba(X_val_split)[:, 1]\n",
    "\n",
    "# Calculate the ROC-AUC score\n",
    "roc_auc_best_stacked = roc_auc_score(y_val_split, y_best_stacked_proba)\n",
    "print(f\"Best Stacked Model ROC-AUC Score: {roc_auc_best_stacked:.4f}\")\n",
    "\n",
    "# You can also print the classification report for a more detailed analysis\n",
    "y_best_stacked_pred = best_stacked_model.predict(X_val_split)\n",
    "print(\"Classification Report for Best Stacked Model:\\n\", classification_report(y_val_split, y_best_stacked_pred))\n"
   ]
  },
  {
   "cell_type": "code",
   "execution_count": null,
   "id": "96b0b462",
   "metadata": {},
   "outputs": [],
   "source": [
    "# Save predictions to a CSV file\n",
    "submission = pd.DataFrame({\n",
    "    'id': test_data['id'],  # Assuming the test data has an 'id' column\n",
    "    'loan_status': y_test_pred\n",
    "})\n",
    "\n",
    "submission.to_csv('submission.csv', index=False)\n"
   ]
  },
  {
   "cell_type": "code",
   "execution_count": null,
   "id": "0b36bc5a",
   "metadata": {},
   "outputs": [],
   "source": []
  }
 ],
 "metadata": {
  "kernelspec": {
   "display_name": "Python 3 (ipykernel)",
   "language": "python",
   "name": "python3"
  },
  "language_info": {
   "codemirror_mode": {
    "name": "ipython",
    "version": 3
   },
   "file_extension": ".py",
   "mimetype": "text/x-python",
   "name": "python",
   "nbconvert_exporter": "python",
   "pygments_lexer": "ipython3",
   "version": "3.11.4"
  }
 },
 "nbformat": 4,
 "nbformat_minor": 5
}
